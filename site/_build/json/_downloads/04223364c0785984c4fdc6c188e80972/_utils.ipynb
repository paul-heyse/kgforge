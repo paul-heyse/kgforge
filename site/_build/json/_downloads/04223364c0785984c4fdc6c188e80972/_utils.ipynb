{
  "cells": [
    {
      "cell_type": "markdown",
      "metadata": {},
      "source": [
        "# Utility helpers used by Sphinx gallery examples\n\nExplain the utility helpers used by Sphinx gallery examples.\n\nThe helpers in this module must stay import-safe, deterministic, and CPU-only so\nthat doctest and gallery generation remain fast. Keep the data tiny and avoid\nnetwork or GPU side effects.\n\n.. tags:: utils, helpers\n\n## Metadata\n\n- **Title:** Utility helpers used by Sphinx gallery examples\n- **Tags:** utils, helpers\n- **Time:** <1s\n- **GPU:** no\n- **Network:** no\n\n## Constraints\n\n- Time: <1s\n- GPU: no\n- Network: no\n"
      ]
    },
    {
      "cell_type": "code",
      "execution_count": null,
      "metadata": {
        "collapsed": false
      },
      "outputs": [],
      "source": [
        "from __future__ import annotations\n\n\ndef tiny_corpus() -> list[dict[str, str]]:\n    \"\"\"Return a tiny in-memory corpus shared across gallery examples.\"\"\"\n    return [\n        {\"id\": \"1\", \"text\": \"cats like naps\"},\n        {\"id\": \"2\", \"text\": \"dogs enjoy walks\"},\n        {\"id\": \"3\", \"text\": \"birds can fly\"},\n    ]"
      ]
    }
  ],
  "metadata": {
    "kernelspec": {
      "display_name": "Python 3",
      "language": "python",
      "name": "python3"
    },
    "language_info": {
      "codemirror_mode": {
        "name": "ipython",
        "version": 3
      },
      "file_extension": ".py",
      "mimetype": "text/x-python",
      "name": "python",
      "nbconvert_exporter": "python",
      "pygments_lexer": "ipython3",
      "version": "3.13.3"
    }
  },
  "nbformat": 4,
  "nbformat_minor": 0
}