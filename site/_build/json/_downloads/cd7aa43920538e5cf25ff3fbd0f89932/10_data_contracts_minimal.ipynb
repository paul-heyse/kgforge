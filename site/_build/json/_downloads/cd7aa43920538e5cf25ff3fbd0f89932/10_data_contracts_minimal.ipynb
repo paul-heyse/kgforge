{
  "cells": [
    {
      "cell_type": "markdown",
      "metadata": {},
      "source": [
        "# Data contracts - schema export smoke\n\nExercise the minimal data contract schema export.\n\nDemonstrate exporting a minimal :class:`pydantic.BaseModel` schema.\n\n.. tags:: schema, pydantic\n\n## Metadata\n\n- **Title:** Data contracts - schema export smoke\n- **Tags:** schema, pydantic\n- **Time:** <2s\n- **GPU:** no\n- **Network:** no\n\n## Constraints\n\n- Time: <2s\n- GPU: no\n- Network: no\n\n>>> from pydantic import BaseModel\n>>> class DemoPayload(BaseModel):\n...     value: int\n>>> schema = DemoPayload.model_json_schema()\n>>> \"properties\" in schema and schema[\"properties\"][\"value\"][\"type\"] == \"integer\"\nTrue\n"
      ]
    },
    {
      "cell_type": "code",
      "execution_count": null,
      "metadata": {
        "collapsed": false
      },
      "outputs": [],
      "source": [
        "from __future__ import annotations"
      ]
    }
  ],
  "metadata": {
    "kernelspec": {
      "display_name": "Python 3",
      "language": "python",
      "name": "python3"
    },
    "language_info": {
      "codemirror_mode": {
        "name": "ipython",
        "version": 3
      },
      "file_extension": ".py",
      "mimetype": "text/x-python",
      "name": "python",
      "nbconvert_exporter": "python",
      "pygments_lexer": "ipython3",
      "version": "3.13.3"
    }
  },
  "nbformat": 4,
  "nbformat_minor": 0
}