{
  "cells": [
    {
      "cell_type": "markdown",
      "metadata": {},
      "source": [
        "# Quickstart - minimal import smoke test\n\nRun the quickstart import smoke test.\n\nEnsure the :mod:`src.kgfoundry` package (installed for import as :mod:`kgfoundry`) can be\nimported without side effects.\n\n.. tags:: getting-started, smoke\n\n## Metadata\n\n- **Title:** Quickstart - minimal import smoke test\n- **Tags:** getting-started, smoke\n- **Time:** <2s\n- **GPU:** no\n- **Network:** no\n\n## Constraints\n\n- Time: <2s\n- GPU: no\n- Network: no\n\n>>> import importlib\n>>> module = importlib.import_module(\"kgfoundry\")\n>>> module.__name__\n'kgfoundry'\n"
      ]
    },
    {
      "cell_type": "code",
      "execution_count": null,
      "metadata": {
        "collapsed": false
      },
      "outputs": [],
      "source": [
        "from __future__ import annotations"
      ]
    }
  ],
  "metadata": {
    "kernelspec": {
      "display_name": "Python 3",
      "language": "python",
      "name": "python3"
    },
    "language_info": {
      "codemirror_mode": {
        "name": "ipython",
        "version": 3
      },
      "file_extension": ".py",
      "mimetype": "text/x-python",
      "name": "python",
      "nbconvert_exporter": "python",
      "pygments_lexer": "ipython3",
      "version": "3.13.3"
    }
  },
  "nbformat": 4,
  "nbformat_minor": 0
}
