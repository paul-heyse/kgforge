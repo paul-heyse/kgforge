{
  "cells": [
    {
      "cell_type": "markdown",
      "metadata": {},
      "source": [
        "# Search - tiny corpus smoke (no GPU)\n\nExercise the tiny-corpus search smoke flow.\n\nExercise the bundled tiny corpus utilities without requiring accelerators.\n\n.. tags:: search, smoke\n\n## Metadata\n\n- **Title:** Search - tiny corpus smoke (no GPU)\n- **Tags:** search, smoke\n- **Time:** <2s\n- **GPU:** no\n- **Network:** no\n\n## Constraints\n\n- Time: <2s\n- GPU: no\n- Network: no\n\n>>> from examples._utils import tiny_corpus\n>>> len(tiny_corpus())\n3\n"
      ]
    },
    {
      "cell_type": "code",
      "execution_count": null,
      "metadata": {
        "collapsed": false
      },
      "outputs": [],
      "source": [
        "from __future__ import annotations"
      ]
    }
  ],
  "metadata": {
    "kernelspec": {
      "display_name": "Python 3",
      "language": "python",
      "name": "python3"
    },
    "language_info": {
      "codemirror_mode": {
        "name": "ipython",
        "version": 3
      },
      "file_extension": ".py",
      "mimetype": "text/x-python",
      "name": "python",
      "nbconvert_exporter": "python",
      "pygments_lexer": "ipython3",
      "version": "3.13.3"
    }
  },
  "nbformat": 4,
  "nbformat_minor": 0
}